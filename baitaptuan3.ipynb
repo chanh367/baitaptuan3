{
  "nbformat": 4,
  "nbformat_minor": 0,
  "metadata": {
    "colab": {
      "provenance": []
    },
    "kernelspec": {
      "name": "python3",
      "display_name": "Python 3"
    },
    "language_info": {
      "name": "python"
    }
  },
  "cells": [
    {
      "cell_type": "markdown",
      "source": [
        "**W3A2**:\n",
        "Hoán đổi hai số không sd biến tạm thời\n",
        "Sử dụng phép toán XOR trên bit để hoán đổi giá trị của hai biến."
      ],
      "metadata": {
        "id": "10cIgSe-jUbs"
      }
    },
    {
      "cell_type": "code",
      "execution_count": 2,
      "metadata": {
        "colab": {
          "base_uri": "https://localhost:8080/"
        },
        "id": "mbLxKlUpjN8A",
        "outputId": "7236954d-ab83-4008-bf91-0d85cbec3039"
      },
      "outputs": [
        {
          "output_type": "stream",
          "name": "stdout",
          "text": [
            "Trước khi hoán đổi: a = 20, b = 7\n",
            "Sau khi hoán đổi: a = 7, b = 20\n"
          ]
        }
      ],
      "source": [
        "a = 20\n",
        "b = 7\n",
        "print(f\"Trước khi hoán đổi: a = {a}, b = {b}\")\n",
        "a = a ^ b\n",
        "b = a ^ b\n",
        "a = a ^ b\n",
        "print(f\"Sau khi hoán đổi: a = {a}, b = {b}\")"
      ]
    },
    {
      "cell_type": "markdown",
      "source": [
        "**W3A3**:\n",
        "Kiểm tra xem một số có phải là lũy thừa của 2 hay không\n",
        "Sử dụng các toán tử bitwise để xác định xem một số có phải là lũy thừa của 2\n",
        "hay không."
      ],
      "metadata": {
        "id": "VZTGQBiSkGCc"
      }
    },
    {
      "cell_type": "code",
      "source": [
        "def  luy_thua_cua_2(n):\n",
        "    if (n & (n - 1)) == 0:\n",
        "        return True\n",
        "    else:\n",
        "        return False\n",
        "a = int(input(\"Nhập một số nguyên dương: \"))\n",
        "if luy_thua_cua_2(a):\n",
        "    print(f\"{a} là lũy thừa của 2.\")\n",
        "else:\n",
        "    print(f\"{a} không phải là lũy thừa của 2.\")"
      ],
      "metadata": {
        "colab": {
          "base_uri": "https://localhost:8080/"
        },
        "collapsed": true,
        "id": "c0Y94FMSkJDT",
        "outputId": "2892e801-8cce-4a53-850a-41c03f55d279"
      },
      "execution_count": 8,
      "outputs": [
        {
          "output_type": "stream",
          "name": "stdout",
          "text": [
            "Nhập một số nguyên dương: 16\n",
            "16 là lũy thừa của 2.\n"
          ]
        }
      ]
    },
    {
      "cell_type": "markdown",
      "source": [
        "**W3A4**: Viêt chương trình chia một số m cho n, kết quả thu được làm tròn xuống"
      ],
      "metadata": {
        "id": "GdkZZ44BmcLS"
      }
    },
    {
      "cell_type": "code",
      "source": [
        "m = float(input(\"Nhập số bị chia: \"))\n",
        "n = float(input(\"Nhập số chia khác 0: \"))\n",
        "ket_qua = m // n\n",
        "print(f\"Kết quả của {m} chia cho {n} làm tròn xuống là: {ket_qua}\")"
      ],
      "metadata": {
        "colab": {
          "base_uri": "https://localhost:8080/"
        },
        "id": "LOXtUOG7mhgq",
        "outputId": "3d1b3d19-6e14-4a14-fc42-6e3af3d409e4"
      },
      "execution_count": 12,
      "outputs": [
        {
          "output_type": "stream",
          "name": "stdout",
          "text": [
            "Nhập số bị chia: 4\n",
            "Nhập số chia khác 0: 2.1\n",
            "Kết quả của 4.0 chia cho 2.1 làm tròn xuống là: 1.0\n"
          ]
        }
      ]
    },
    {
      "cell_type": "markdown",
      "source": [
        "**W3A5**: Viêt chương trình chia một số m cho n, kết quả thu được làm tròn lên\n"
      ],
      "metadata": {
        "id": "ZPIkIaRKnHcq"
      }
    },
    {
      "cell_type": "code",
      "source": [
        "m = float(input(\"Nhập số bị chia: \"))\n",
        "n = float(input(\"Nhập số chia: \"))\n",
        "ket_qua = m // n\n",
        "if m % n != 0:\n",
        "  ket_qua += 1\n",
        "print(f\"Kết quả của {m} chia cho {n} làm tròn lên là: {ket_qua}\")"
      ],
      "metadata": {
        "colab": {
          "base_uri": "https://localhost:8080/"
        },
        "id": "fvJWl0nLnmcS",
        "outputId": "1f509408-fca3-4372-e944-059f89e68067"
      },
      "execution_count": 17,
      "outputs": [
        {
          "output_type": "stream",
          "name": "stdout",
          "text": [
            "Nhập số bị chia: 6\n",
            "Nhập số chia: 4\n",
            "Kết quả của 6.0 chia cho 4.0 làm tròn lên là: 2.0\n"
          ]
        }
      ]
    },
    {
      "cell_type": "markdown",
      "source": [
        "**W3A6:**\n",
        "[Even and Odd]\n",
        "Nhập vào một số nguyên dương x, bạn hãy kiểm tra xem x là số chẵn hay lẻ.\n",
        "Nếu x là số chẵn, in ra \"Even\". Nếu x là số lẻ, in ra \"Odd"
      ],
      "metadata": {
        "id": "WdmzkMRtpF1u"
      }
    },
    {
      "cell_type": "code",
      "source": [
        "x = int(input(\"Nhập một số nguyên dương: \"))\n",
        "if x % 2 == 0:\n",
        "  print(\"Even\")\n",
        "else:\n",
        "  print(\"Odd\")"
      ],
      "metadata": {
        "colab": {
          "base_uri": "https://localhost:8080/"
        },
        "id": "_BFwTntlpKmC",
        "outputId": "9fbb519e-8b9d-4a0b-daed-1d34dc21e4c8"
      },
      "execution_count": 21,
      "outputs": [
        {
          "output_type": "stream",
          "name": "stdout",
          "text": [
            "Nhập một số nguyên dương: 7\n",
            "Odd\n"
          ]
        }
      ]
    },
    {
      "cell_type": "markdown",
      "source": [
        "**W3A7:**\n",
        "[Check negative numbers]\n",
        "Nhập vào hai số nguyên a, b. Nếu cả hai số a, b đều âm thì in ra \"Yes\",\n",
        "ngược lại in ra \"No"
      ],
      "metadata": {
        "id": "OjanwalUpiKY"
      }
    },
    {
      "cell_type": "code",
      "source": [
        "a = int(input(\"Nhập số a: \"))\n",
        "b = int(input(\"Nhập số b: \"))\n",
        "if a < 0 and b < 0:\n",
        "  print(\"Yes\")\n",
        "else:\n",
        "  print(\"No\")"
      ],
      "metadata": {
        "colab": {
          "base_uri": "https://localhost:8080/"
        },
        "id": "QxLTgGsepmXO",
        "outputId": "2357b20e-f3ec-45fe-832b-1be527b24715"
      },
      "execution_count": 22,
      "outputs": [
        {
          "output_type": "stream",
          "name": "stdout",
          "text": [
            "Nhập số a: 7\n",
            "Nhập số b: -8\n",
            "No\n"
          ]
        }
      ]
    },
    {
      "cell_type": "markdown",
      "source": [
        "**W3A8:**\n",
        "[Longer string]\n",
        "Nhập vào hai chuỗi a, b gồm các chữ cái thường. In ra \"True\" nếu chuỗi a\n",
        "dài hơn chuỗi b. Ngược lại i"
      ],
      "metadata": {
        "id": "5gochV6SpvPF"
      }
    },
    {
      "cell_type": "code",
      "source": [
        "a = input(\"Nhập chuỗi a: \")\n",
        "b = input(\"Nhập chuỗi b: \")\n",
        "if len(a) > len(b):\n",
        "  print(\"True\")\n",
        "else:\n",
        "  print(\"False\")"
      ],
      "metadata": {
        "colab": {
          "base_uri": "https://localhost:8080/"
        },
        "id": "cZcQLSCdpyxC",
        "outputId": "56da1d56-3945-48b7-c374-bd0e25b5da01"
      },
      "execution_count": 23,
      "outputs": [
        {
          "output_type": "stream",
          "name": "stdout",
          "text": [
            "Nhập chuỗi a: chanh88888\n",
            "Nhập chuỗi b: penguin888\n",
            "False\n"
          ]
        }
      ]
    },
    {
      "cell_type": "markdown",
      "source": [
        "**W3A9:**\n",
        "[Triangle]\n",
        "Nhập vào 3 số nguyên dương a, b, c. Kiểm tra xem a, b, c có cấu thành độ\n",
        "dài cạnh của 1 tam giác được không. Nếu a, b, c cấu tạo thành được một tam\n",
        "giác, in ra \"Yes\". Ngược lại in ra \"No\".\n"
      ],
      "metadata": {
        "id": "qLEg9hr8qP2a"
      }
    },
    {
      "cell_type": "code",
      "source": [
        "a = int(input(\"Nhập số nguyên dương a: \"))\n",
        "b = int(input(\"Nhập số nguyên dương b: \"))\n",
        "c = int(input(\"Nhập số nguyên dương c: \"))\n",
        "if (a + b > c) and (a + c > b) and (b + c > a):\n",
        "  print(\"Yes\")\n",
        "else:\n",
        "  print(\"No\")"
      ],
      "metadata": {
        "colab": {
          "base_uri": "https://localhost:8080/"
        },
        "id": "64dxx68ZqTxZ",
        "outputId": "f309f34a-5c1b-4142-c092-4f07586954fc"
      },
      "execution_count": 24,
      "outputs": [
        {
          "output_type": "stream",
          "name": "stdout",
          "text": [
            "Nhập số nguyên dương a: 7\n",
            "Nhập số nguyên dương b: 8\n",
            "Nhập số nguyên dương c: 2\n",
            "Yes\n"
          ]
        }
      ]
    },
    {
      "cell_type": "markdown",
      "source": [
        "**W3A10:**\n",
        "[Largest number]\n",
        "Nhập vào 4 số nguyên. In ra màn hình số nguyên lớn nhất trong 4 số."
      ],
      "metadata": {
        "id": "NuonMtIZqx3v"
      }
    },
    {
      "cell_type": "code",
      "source": [
        "a = int(input(\"Nhập số thứ nhất: \"))\n",
        "b = int(input(\"Nhập số thứ hai: \"))\n",
        "c = int(input(\"Nhập số thứ ba: \"))\n",
        "d = int(input(\"Nhập số thứ tư: \"))\n",
        "max_num = a\n",
        "if b > max_num:\n",
        "    max_num = b\n",
        "if c > max_num:\n",
        "    max_num = c\n",
        "if d > max_num:\n",
        "    max_num = d\n",
        "print(f\"Số lớn nhất trong 4 số là: {max_num}\")"
      ],
      "metadata": {
        "colab": {
          "base_uri": "https://localhost:8080/"
        },
        "id": "Lx50LNyyq2LG",
        "outputId": "8339b1f6-aa2a-447f-b6d8-a2e7d466ebda"
      },
      "execution_count": 25,
      "outputs": [
        {
          "output_type": "stream",
          "name": "stdout",
          "text": [
            "Nhập số thứ nhất: 1\n",
            "Nhập số thứ hai: 3\n",
            "Nhập số thứ ba: 7\n",
            "Nhập số thứ tư: 9\n",
            "Số lớn nhất trong 4 số là: 9\n"
          ]
        }
      ]
    },
    {
      "cell_type": "markdown",
      "source": [
        "**W3A11:**\n",
        "[Phân loại tam giác]\n",
        "Nhập vào 3 số nguyên dương a,b,c là độ dài 3 cạnh của một tam giác. Kiểm\n",
        "tra 3 số đã nhập có tạo thành một tam giác hợp lệ hay không. Nếu không in\n",
        "ra \"Không phải tam giác\". Nếu có, phân loại tam giác đó là \"Tam giác đều\",\n",
        "\"Tam giác cân\", hay \"Tam giác thường\"."
      ],
      "metadata": {
        "id": "2LNdQIzjrJZq"
      }
    },
    {
      "cell_type": "code",
      "source": [
        "a = int(input(\"Nhập cạnh a: \"))\n",
        "b = int(input(\"Nhập cạnh b: \"))\n",
        "c = int(input(\"Nhập cạnh c: \"))\n",
        "if (a + b > c) and (a + c > b) and (b + c > a):\n",
        "  if a == b == c:\n",
        "    print(\"Tam giác đều\")\n",
        "  elif a == b or b == c or a == c:\n",
        "    print(\"Tam giác cân\")\n",
        "  else:\n",
        "    print(\"Tam giác thường\")\n",
        "else:\n",
        "  print(\"Không phải tam giác\")"
      ],
      "metadata": {
        "colab": {
          "base_uri": "https://localhost:8080/"
        },
        "id": "_hRfYeBPrNbC",
        "outputId": "284a715d-fc25-4e72-940d-44acb3e7335a"
      },
      "execution_count": 28,
      "outputs": [
        {
          "output_type": "stream",
          "name": "stdout",
          "text": [
            "Nhập cạnh a: 1\n",
            "Nhập cạnh b: 2\n",
            "Nhập cạnh c: 2\n",
            "Tam giác cân\n"
          ]
        }
      ]
    },
    {
      "cell_type": "markdown",
      "source": [
        "**W3A12:**\n",
        "[Kiểm tra năm nhuận]\n",
        "Nhập vào một số nguyên dương n là số năm, kiểm tra xem năm đó có phải là\n",
        "năm nhuận hay không. Năm nhuận là năm chia hết cho 4 nhưng không chia\n",
        "hết cho 100, hoặc chia hết cho 400. Nếu là năm nhuận in ra \"Yes\", nếu\n",
        "không in ra \"No\""
      ],
      "metadata": {
        "id": "axCWfIrOsKKj"
      }
    },
    {
      "cell_type": "code",
      "source": [
        "n = int(input(\"Nhập năm (số nguyên dương): \"))\n",
        "if (n % 4 == 0 and n % 100 != 0) or (n % 400 == 0):\n",
        "  print(\"Yes\")\n",
        "else:\n",
        "  print(\"No\")"
      ],
      "metadata": {
        "colab": {
          "base_uri": "https://localhost:8080/"
        },
        "id": "RIK4rxycsOCa",
        "outputId": "4cf10aa7-f7a8-4512-9e82-04ec7cb3a586"
      },
      "execution_count": 29,
      "outputs": [
        {
          "output_type": "stream",
          "name": "stdout",
          "text": [
            "Nhập năm (số nguyên dương): 2015\n",
            "No\n"
          ]
        }
      ]
    },
    {
      "cell_type": "markdown",
      "source": [
        "**W3A14:**\n",
        "[Giải phương trình bậc nhất]\n",
        "Nhập vào hai số thực a và b của phương trình ax + b = 0. Tìm và in ra\n",
        "nghiệm của phương trình, kết quả làm tròn đến số thập phân thứ 2. In ra \"Vô\n",
        "nghiệm\" hoặc \"Vô số nghiệm\" trong trường hợp tương ứng"
      ],
      "metadata": {
        "id": "9B-0fsYzsb61"
      }
    },
    {
      "cell_type": "code",
      "source": [
        "a = float(input(\"Nhập hệ số a: \"))\n",
        "b = float(input(\"Nhập hệ số b: \"))\n",
        "if a == 0:\n",
        "    if b == 0:\n",
        "        print(\"Vô số nghiệm\")\n",
        "    else:\n",
        "        print(\"Vô nghiệm\")\n",
        "else:\n",
        "    x = -b / a\n",
        "    lam_tron = round(x, 2)\n",
        "    print(f\"Nghiệm của phương trình là: {lam_tron}\")"
      ],
      "metadata": {
        "colab": {
          "base_uri": "https://localhost:8080/"
        },
        "id": "cLc2Pi_0sk6q",
        "outputId": "b029acf0-2a36-4d42-915b-38f027974534"
      },
      "execution_count": 30,
      "outputs": [
        {
          "output_type": "stream",
          "name": "stdout",
          "text": [
            "Nhập hệ số a: 4\n",
            "Nhập hệ số b: 2\n",
            "Nghiệm của phương trình là: -0.5\n"
          ]
        }
      ]
    },
    {
      "cell_type": "markdown",
      "source": [
        "**W3A15:**\n",
        "[Xếp loại học lực]\n",
        "Nhập vào điểm trung bình của một học sinh và in ra học lực của học sinh đó.\n",
        "Xếp loại học lực theo quy tắc:\n",
        ".>= 8.0: Giỏi,\n",
        ".>= 6.5: Khá,\n",
        ".>= 5.0: Trung bình,\n",
        "< 5.0: Yếu"
      ],
      "metadata": {
        "id": "FLy1wN5XtHCO"
      }
    },
    {
      "cell_type": "code",
      "source": [
        "diem = float(input(\"Nhập điểm trung bình của học sinh: \"))\n",
        "if diem >= 8.0:\n",
        "  print(\"Giỏi\")\n",
        "elif diem >= 6.5:\n",
        "  print(\"Khá\")\n",
        "elif diem >= 5.0:\n",
        "  print(\"Trung bình\")\n",
        "else:\n",
        "  print(\"Yếu\")\n"
      ],
      "metadata": {
        "colab": {
          "base_uri": "https://localhost:8080/"
        },
        "id": "k2t9arYktMx2",
        "outputId": "159cdf75-ad42-423a-f6ed-7196bd4377f3"
      },
      "execution_count": 31,
      "outputs": [
        {
          "output_type": "stream",
          "name": "stdout",
          "text": [
            "Nhập điểm trung bình của học sinh: 7.9\n",
            "Khá\n"
          ]
        }
      ]
    },
    {
      "cell_type": "markdown",
      "source": [
        "**W3A16:**\n",
        "[Rounding]\n",
        "Nhập vào một số thực: in ra kết quả làm tròn lên, tròn xuống, làm tròn tới số\n",
        "nguyên gần nhất (không được sử dụng hàm sẵn có của pyton). Các kết quả\n",
        "cách nhau một dấu cách"
      ],
      "metadata": {
        "id": "jgrOJfX-ttdK"
      }
    },
    {
      "cell_type": "code",
      "source": [],
      "metadata": {
        "id": "j8vuerQZtz2C"
      },
      "execution_count": null,
      "outputs": []
    }
  ]
}